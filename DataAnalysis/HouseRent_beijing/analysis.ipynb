{
 "cells": [
  {
   "cell_type": "code",
   "execution_count": 1,
   "metadata": {},
   "outputs": [],
   "source": [
    "import matplotlib as mpl\n",
    "import matplotlib.pyplot as plt\n",
    "import numpy as np\n",
    "import pandas as pd\n",
    "import statsmodels.api as sm\n",
    "import statsmodels.formula.api as smf\n",
    "\n",
    "#*----------------------------------------------------------------\n",
    "mpl.rcParams['font.sans-serif'] = ['SimHei']# *允许显示中文\n",
    "plt.rcParams['axes.unicode_minus']=False# *允许显示坐标轴负数\n",
    "#*----------------------------------------------------------------"
   ]
  },
  {
   "cell_type": "markdown",
   "metadata": {},
   "source": [
    "<font color = \"#9bc1b2\">月租金（rent）、卧室数（bedroom）、厅数（livingroom）、卫生间数（bathroom）、\n",
    "租赁面积（area）、租赁房间（room）、所在楼层分组（floor_grp）、邻近地铁（subway）、城区（region）、供暖方式（heating）</font>"
   ]
  },
  {
   "cell_type": "code",
   "execution_count": 79,
   "metadata": {},
   "outputs": [
    {
     "data": {
      "text/html": [
       "<div>\n",
       "<style scoped>\n",
       "    .dataframe tbody tr th:only-of-type {\n",
       "        vertical-align: middle;\n",
       "    }\n",
       "\n",
       "    .dataframe tbody tr th {\n",
       "        vertical-align: top;\n",
       "    }\n",
       "\n",
       "    .dataframe thead th {\n",
       "        text-align: right;\n",
       "    }\n",
       "</style>\n",
       "<table border=\"1\" class=\"dataframe\">\n",
       "  <thead>\n",
       "    <tr style=\"text-align: right;\">\n",
       "      <th></th>\n",
       "      <th>rent</th>\n",
       "      <th>bedroom</th>\n",
       "      <th>livingroom</th>\n",
       "      <th>bathroom</th>\n",
       "      <th>area</th>\n",
       "      <th>room</th>\n",
       "      <th>floor_grp</th>\n",
       "      <th>subway</th>\n",
       "      <th>region</th>\n",
       "      <th>heating</th>\n",
       "    </tr>\n",
       "  </thead>\n",
       "  <tbody>\n",
       "    <tr>\n",
       "      <th>0</th>\n",
       "      <td>2730</td>\n",
       "      <td>2</td>\n",
       "      <td>1</td>\n",
       "      <td>1</td>\n",
       "      <td>12</td>\n",
       "      <td>主卧</td>\n",
       "      <td>高楼层</td>\n",
       "      <td>是</td>\n",
       "      <td>通州</td>\n",
       "      <td>集中供暖</td>\n",
       "    </tr>\n",
       "    <tr>\n",
       "      <th>1</th>\n",
       "      <td>2740</td>\n",
       "      <td>3</td>\n",
       "      <td>1</td>\n",
       "      <td>1</td>\n",
       "      <td>9</td>\n",
       "      <td>次卧</td>\n",
       "      <td>低楼层</td>\n",
       "      <td>是</td>\n",
       "      <td>昌平</td>\n",
       "      <td>集中供暖</td>\n",
       "    </tr>\n",
       "    <tr>\n",
       "      <th>2</th>\n",
       "      <td>2810</td>\n",
       "      <td>3</td>\n",
       "      <td>1</td>\n",
       "      <td>1</td>\n",
       "      <td>14</td>\n",
       "      <td>主卧</td>\n",
       "      <td>低楼层</td>\n",
       "      <td>是</td>\n",
       "      <td>丰台</td>\n",
       "      <td>集中供暖</td>\n",
       "    </tr>\n",
       "  </tbody>\n",
       "</table>\n",
       "</div>"
      ],
      "text/plain": [
       "   rent  bedroom  livingroom  bathroom  area room floor_grp subway region  \\\n",
       "0  2730        2           1         1    12   主卧       高楼层      是     通州   \n",
       "1  2740        3           1         1     9   次卧       低楼层      是     昌平   \n",
       "2  2810        3           1         1    14   主卧       低楼层      是     丰台   \n",
       "\n",
       "  heating  \n",
       "0    集中供暖  \n",
       "1    集中供暖  \n",
       "2    集中供暖  "
      ]
     },
     "execution_count": 79,
     "metadata": {},
     "output_type": "execute_result"
    }
   ],
   "source": [
    "df = pd.read_csv(\"data/data.csv\",encoding = \"utf-8\")\n",
    "df.head(3)"
   ]
  },
  {
   "cell_type": "code",
   "execution_count": 80,
   "metadata": {},
   "outputs": [
    {
     "data": {
      "text/html": [
       "<div>\n",
       "<style scoped>\n",
       "    .dataframe tbody tr th:only-of-type {\n",
       "        vertical-align: middle;\n",
       "    }\n",
       "\n",
       "    .dataframe tbody tr th {\n",
       "        vertical-align: top;\n",
       "    }\n",
       "\n",
       "    .dataframe thead th {\n",
       "        text-align: right;\n",
       "    }\n",
       "</style>\n",
       "<table border=\"1\" class=\"dataframe\">\n",
       "  <thead>\n",
       "    <tr style=\"text-align: right;\">\n",
       "      <th></th>\n",
       "      <th>rent</th>\n",
       "      <th>bedroom</th>\n",
       "      <th>livingroom</th>\n",
       "      <th>bathroom</th>\n",
       "      <th>area</th>\n",
       "      <th>room</th>\n",
       "      <th>floor_grp</th>\n",
       "      <th>subway</th>\n",
       "      <th>region</th>\n",
       "      <th>heating</th>\n",
       "    </tr>\n",
       "  </thead>\n",
       "  <tbody>\n",
       "    <tr>\n",
       "      <th>0</th>\n",
       "      <td>2730</td>\n",
       "      <td>2</td>\n",
       "      <td>1</td>\n",
       "      <td>1</td>\n",
       "      <td>12</td>\n",
       "      <td>主卧</td>\n",
       "      <td>高楼层</td>\n",
       "      <td>1.0</td>\n",
       "      <td>通州</td>\n",
       "      <td>1.0</td>\n",
       "    </tr>\n",
       "    <tr>\n",
       "      <th>1</th>\n",
       "      <td>2740</td>\n",
       "      <td>3</td>\n",
       "      <td>1</td>\n",
       "      <td>1</td>\n",
       "      <td>9</td>\n",
       "      <td>次卧</td>\n",
       "      <td>低楼层</td>\n",
       "      <td>1.0</td>\n",
       "      <td>昌平</td>\n",
       "      <td>1.0</td>\n",
       "    </tr>\n",
       "    <tr>\n",
       "      <th>2</th>\n",
       "      <td>2810</td>\n",
       "      <td>3</td>\n",
       "      <td>1</td>\n",
       "      <td>1</td>\n",
       "      <td>14</td>\n",
       "      <td>主卧</td>\n",
       "      <td>低楼层</td>\n",
       "      <td>1.0</td>\n",
       "      <td>丰台</td>\n",
       "      <td>1.0</td>\n",
       "    </tr>\n",
       "  </tbody>\n",
       "</table>\n",
       "</div>"
      ],
      "text/plain": [
       "   rent  bedroom  livingroom  bathroom  area room floor_grp  subway region  \\\n",
       "0  2730        2           1         1    12   主卧       高楼层     1.0     通州   \n",
       "1  2740        3           1         1     9   次卧       低楼层     1.0     昌平   \n",
       "2  2810        3           1         1    14   主卧       低楼层     1.0     丰台   \n",
       "\n",
       "   heating  \n",
       "0      1.0  \n",
       "1      1.0  \n",
       "2      1.0  "
      ]
     },
     "execution_count": 80,
     "metadata": {},
     "output_type": "execute_result"
    }
   ],
   "source": [
    "df.loc[df[\"subway\"] == \"是\" ,\"subway\"] = 1\n",
    "df.loc[df[\"subway\"] == \"否\" ,\"subway\"] = 0\n",
    "df.loc[df[\"heating\"] == \"集中供暖\" ,\"heating\"] = 1\n",
    "df.loc[df[\"heating\"] == \"自采暖\" ,\"heating\"] = 0\n",
    "df[[\"subway\",\"heating\"]] = df[[\"subway\",\"heating\"]].astype(float)\n",
    "df.head(3)\n"
   ]
  },
  {
   "cell_type": "code",
   "execution_count": 51,
   "metadata": {},
   "outputs": [],
   "source": [
    "bar_data = pd.DataFrame(columns=['rent', 'region'])\n",
    "for i in np.unique(df[\"region\"]):\n",
    "    temp = pd.Series({'rent' : np.mean(df.loc[df[\"region\"] == i , \"rent\"]) , 'region' : i})\n",
    "    bar_data = bar_data.append( temp ,ignore_index=True)"
   ]
  },
  {
   "cell_type": "code",
   "execution_count": 63,
   "metadata": {},
   "outputs": [
    {
     "data": {
      "image/png": "[encoded data removed]",
      "text/plain": [
       "<Figure size 900x450 with 1 Axes>"
      ]
     },
     "metadata": {
      "needs_background": "light"
     },
     "output_type": "display_data"
    }
   ],
   "source": [
    "\n",
    "fig, axes = plt.subplots(figsize=(6, 3), dpi=150)\n",
    "axes.bar(bar_data[\"region\"],bar_data[\"rent\"] ,color = [\"red\",\"#005e91\"] ,alpha = 0.7 , label = \"均租金\") # 绘制直方图\n",
    "for a,b in zip( bar_data[\"region\"] , bar_data[\"rent\"]):\n",
    "    plt.text(a,b,'%.2f'%b,ha='center',va='bottom',fontsize=7)\n",
    "axes.set_ylabel(\"平均租金\")\n",
    "axes.legend()\n",
    "plt.show()"
   ]
  },
  {
   "cell_type": "markdown",
   "metadata": {},
   "source": [
    "很明显，不同地区的平均租金差异很大，其中西城的最高，房山的最低，很符合是否靠近北京市中心这一特征。  \n",
    "那么接下来就针对某一个特定变量对rent做回归，看看那些变量影响房租  \n",
    "首先进行粗略的检视看看那些变量存在明显相关性  "
   ]
  },
  {
   "cell_type": "code",
   "execution_count": 81,
   "metadata": {},
   "outputs": [
    {
     "name": "stdout",
     "output_type": "stream",
     "text": [
      "0.028728832477150253\n",
      "-0.014744508242235322\n",
      "-0.06734325596792683\n",
      "0.44378500428947104\n",
      "0.203766777055728\n",
      "0.022331883899847752\n"
     ]
    }
   ],
   "source": [
    "print(df[\"rent\"].corr(df[\"bathroom\"],method = \"pearson\"))\n",
    "print(df[\"rent\"].corr(df[\"livingroom\"],method = \"pearson\"))\n",
    "print(df[\"rent\"].corr(df[\"bedroom\"],method = \"pearson\"))\n",
    "print(df[\"rent\"].corr(df[\"area\"],method = \"pearson\"))\n",
    "print(df[\"rent\"].corr(df[\"subway\"],method = \"pearson\"))\n",
    "print(df[\"rent\"].corr(df[\"heating\"],method = \"pearson\"))"
   ]
  },
  {
   "cell_type": "code",
   "execution_count": 82,
   "metadata": {},
   "outputs": [
    {
     "name": "stdout",
     "output_type": "stream",
     "text": [
      "                            OLS Regression Results                            \n",
      "==============================================================================\n",
      "Dep. Variable:                   rent   R-squared:                       0.206\n",
      "Model:                            OLS   Adj. R-squared:                  0.205\n",
      "Method:                 Least Squares   F-statistic:                     332.8\n",
      "Date:                Tue, 21 Dec 2021   Prob (F-statistic):          4.31e-255\n",
      "Time:                        22:07:31   Log-Likelihood:                -40884.\n",
      "No. Observations:                5149   AIC:                         8.178e+04\n",
      "Df Residuals:                    5144   BIC:                         8.181e+04\n",
      "Df Model:                           4                                         \n",
      "Covariance Type:            nonrobust                                         \n",
      "==============================================================================\n",
      "                 coef    std err          t      P>|t|      [0.025      0.975]\n",
      "------------------------------------------------------------------------------\n",
      "Intercept   1997.8320    106.196     18.813      0.000    1789.642    2206.022\n",
      "bedroom      -79.9936     12.225     -6.543      0.000    -103.960     -56.027\n",
      "livingroom  -277.3008    106.544     -2.603      0.009    -486.173     -68.429\n",
      "bathroom     264.5802     65.151      4.061      0.000     136.857     392.304\n",
      "area          81.5208      2.274     35.851      0.000      77.063      85.979\n",
      "==============================================================================\n",
      "Omnibus:                      275.200   Durbin-Watson:                   1.663\n",
      "Prob(Omnibus):                  0.000   Jarque-Bera (JB):              321.035\n",
      "Skew:                           0.585   Prob(JB):                     1.94e-70\n",
      "Kurtosis:                       3.354   Cond. No.                         207.\n",
      "==============================================================================\n",
      "\n",
      "Notes:\n",
      "[1] Standard Errors assume that the covariance matrix of the errors is correctly specified.\n"
     ]
    }
   ],
   "source": [
    "model1 = smf.ols('rent ~ bedroom + livingroom + bathroom + area ',data = df).fit()\n",
    "print(model1.summary())"
   ]
  }
 ],
 "metadata": {
  "interpreter": {
   "hash": "96eb50e1d44aed467dc8f759cb08c32fbfa9babcf79c554e2d0e5feb04653a10"
  },
  "kernelspec": {
   "display_name": "Python 3.9.7 64-bit ('base': conda)",
   "language": "python",
   "name": "python3"
  },
  "language_info": {
   "codemirror_mode": {
    "name": "ipython",
    "version": 3
   },
   "file_extension": ".py",
   "mimetype": "text/x-python",
   "name": "python",
   "nbconvert_exporter": "python",
   "pygments_lexer": "ipython3",
   "version": "3.9.7"
  },
  "orig_nbformat": 4
 },
 "nbformat": 4,
 "nbformat_minor": 2
}
